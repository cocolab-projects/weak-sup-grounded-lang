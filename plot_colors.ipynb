{
 "cells": [
  {
   "cell_type": "code",
   "execution_count": 5,
   "metadata": {},
   "outputs": [],
   "source": [
    "import matplotlib.pyplot as plt\n",
    "import numpy as np"
   ]
  },
  {
   "cell_type": "code",
   "execution_count": 6,
   "metadata": {},
   "outputs": [],
   "source": [
    "RAW_DIR = \"/mnt/fs5/hokysung/acc_colors_weaksup/\""
   ]
  },
  {
   "cell_type": "code",
   "execution_count": 7,
   "metadata": {},
   "outputs": [
    {
     "name": "stdout",
     "output_type": "stream",
     "text": [
      "[array([33.49514563, 33.10679612, 32.65372168]), array([33.33333333, 33.10679612, 32.75080906]), array([47.86407767, 63.62459547, 62.75080906]), array([71.84466019, 67.83171521, 65.17799353]), array([70.61488673, 70.51779935, 60.1618123 ]), array([70.87378641, 71.22977346, 65.01618123]), array([72.97734628, 70.3236246 , 67.92880259]), array([79.38511327, 72.81553398, 77.4433657 ]), array([81.77993528, 35.9223301 , 77.89644013]), array([81.00323625, 82.13592233, 80.97087379]), array([83.55987055, 83.68932039, 81.81229773]), array([86.92556634, 85.69579288, 86.37540453]), array([88.70550162, 87.73462783, 89.02912621]), array([89.8381877 , 90.58252427, 89.93527508]), array([90.90614887, 90.67961165, 91.16504854]), array([91.58576052, 92.94498382, 92.16828479])]\n",
      "[33.085221143473575, 33.06364617044229, 58.07982740021575, 68.28478964401295, 67.09816612729234, 69.03991370010787, 70.40992448759438, 76.5480043149946, 65.19956850053937, 81.37001078748652, 83.02049622437973, 86.33225458468178, 88.48975188781014, 90.11866235167206, 90.91693635382956, 92.23300970873787]\n"
     ]
    }
   ],
   "source": [
    "levels = [0.0005, 0.001, 0.00125, 0.0015, 0.002, 0.0025, 0.003, 0.004, 0.005, 0.01, 0.02, 0.05, 0.1, 0.2, 0.5, 1.0]\n",
    "all_accs = []\n",
    "mean_accs = []\n",
    "\n",
    "for level in levels:\n",
    "    accuracies = np.load(RAW_DIR + \"accuracies_\" + str(level) + '.npy')\n",
    "    all_accs.append(accuracies)\n",
    "    mean_accs.append(np.mean(accuracies))\n",
    "\n",
    "print(all_accs)\n",
    "print(mean_accs)"
   ]
  },
  {
   "cell_type": "code",
   "execution_count": 4,
   "metadata": {
    "scrolled": true
   },
   "outputs": [
    {
     "data": {
      "image/png": "[encoded data removed]",
      "text/plain": [
       "<Figure size 432x288 with 1 Axes>"
      ]
     },
     "metadata": {
      "needs_background": "light"
     },
     "output_type": "display_data"
    }
   ],
   "source": [
    "plt.plot(levels, mean_accs, 'o', label = 'from data', alpha = 0.5)\n",
    "plt.legend()\n",
    "plt.show()"
   ]
  },
  {
   "cell_type": "code",
   "execution_count": null,
   "metadata": {},
   "outputs": [],
   "source": [
    "RAW_DIR = \"/mnt/fs5/hokysung/acc_colors_weaksup_hard/\""
   ]
  },
  {
   "cell_type": "code",
   "execution_count": null,
   "metadata": {},
   "outputs": [],
   "source": [
    "levels = [0.0005, 0.001, 0.00125, 0.0015, 0.002, 0.0025, 0.003, 0.004, 0.005, 0.01, 0.02, 0.05, 0.1, 0.2, 0.5, 1.0]\n",
    "all_accs = []\n",
    "mean_accs = []\n",
    "\n",
    "for level in levels:\n",
    "    accuracies = np.load(RAW_DIR + \"accuracies_\" + str(level) + '.npy')\n",
    "    all_accs.append(accuracies)\n",
    "    mean_accs.append(np.mean(accuracies))\n",
    "\n",
    "print(all_accs)\n",
    "print(mean_accs)"
   ]
  },
  {
   "cell_type": "code",
   "execution_count": null,
   "metadata": {},
   "outputs": [],
   "source": [
    "plt.plot(levels, mean_accs, 'o', label = 'from data', alpha = 0.5)\n",
    "plt.legend()\n",
    "plt.show()"
   ]
  }
 ],
 "metadata": {
  "kernelspec": {
   "display_name": "Python 3",
   "language": "python",
   "name": "python3"
  },
  "language_info": {
   "codemirror_mode": {
    "name": "ipython",
    "version": 3
   },
   "file_extension": ".py",
   "mimetype": "text/x-python",
   "name": "python",
   "nbconvert_exporter": "python",
   "pygments_lexer": "ipython3",
   "version": "3.6.7"
  }
 },
 "nbformat": 4,
 "nbformat_minor": 2
}
